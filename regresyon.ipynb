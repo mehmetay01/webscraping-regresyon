{
 "cells": [
  {
   "cell_type": "code",
   "execution_count": 272,
   "id": "b1b60ee2-593c-4915-9ce2-8a3599407f39",
   "metadata": {},
   "outputs": [],
   "source": [
    "import numpy as np\n",
    "import pandas as pd\n",
    "from sklearn.model_selection import train_test_split\n",
    "from sklearn.linear_model import LinearRegression\n",
    "from sklearn.metrics import mean_squared_error\n",
    "import matplotlib.pyplot as plt\n",
    "from sklearn.preprocessing import StandardScaler\n",
    "import seaborn as sns\n",
    "from sklearn.ensemble import RandomForestRegressor\n",
    "from sklearn.model_selection import cross_val_score\n",
    "from sklearn.metrics import mean_squared_error, mean_absolute_error\n",
    "from sklearn.preprocessing import PolynomialFeatures\n",
    "\n"
   ]
  },
  {
   "cell_type": "code",
   "execution_count": 273,
   "id": "1a02c42f-6ee0-4b23-8579-cc8f92acb5d0",
   "metadata": {},
   "outputs": [],
   "source": [
    "df=pd.read_csv(\"Desktop/dfw_data.csv\")"
   ]
  },
  {
   "cell_type": "code",
   "execution_count": 274,
   "id": "f91fbd4d-f293-474e-8a48-1059c8d53115",
   "metadata": {},
   "outputs": [
    {
     "data": {
      "text/html": [
       "<div>\n",
       "<style scoped>\n",
       "    .dataframe tbody tr th:only-of-type {\n",
       "        vertical-align: middle;\n",
       "    }\n",
       "\n",
       "    .dataframe tbody tr th {\n",
       "        vertical-align: top;\n",
       "    }\n",
       "\n",
       "    .dataframe thead th {\n",
       "        text-align: right;\n",
       "    }\n",
       "</style>\n",
       "<table border=\"1\" class=\"dataframe\">\n",
       "  <thead>\n",
       "    <tr style=\"text-align: right;\">\n",
       "      <th></th>\n",
       "      <th>fiyat</th>\n",
       "      <th>genislik</th>\n",
       "      <th>toplam_hacim</th>\n",
       "      <th>yukseklik</th>\n",
       "      <th>derinlik</th>\n",
       "    </tr>\n",
       "  </thead>\n",
       "  <tbody>\n",
       "    <tr>\n",
       "      <th>0</th>\n",
       "      <td>19.001 TL</td>\n",
       "      <td>70 cm</td>\n",
       "      <td>451-475 L</td>\n",
       "      <td>187 cm</td>\n",
       "      <td>72 cm</td>\n",
       "    </tr>\n",
       "    <tr>\n",
       "      <th>1</th>\n",
       "      <td>16.000 TL</td>\n",
       "      <td>70 cm</td>\n",
       "      <td>351-375 L</td>\n",
       "      <td>172 cm</td>\n",
       "      <td>65 cm</td>\n",
       "    </tr>\n",
       "    <tr>\n",
       "      <th>2</th>\n",
       "      <td>10.522 TL</td>\n",
       "      <td>55 cm</td>\n",
       "      <td>226-250 L</td>\n",
       "      <td>143 cm</td>\n",
       "      <td>55 cm</td>\n",
       "    </tr>\n",
       "    <tr>\n",
       "      <th>3</th>\n",
       "      <td>6.450 TL</td>\n",
       "      <td>45 cm</td>\n",
       "      <td>200 L ve altı</td>\n",
       "      <td>87 cm</td>\n",
       "      <td>52 cm</td>\n",
       "    </tr>\n",
       "    <tr>\n",
       "      <th>4</th>\n",
       "      <td>999 TL</td>\n",
       "      <td>31 cm</td>\n",
       "      <td>201-225 L</td>\n",
       "      <td>33 cm</td>\n",
       "      <td>30 cm ve altı</td>\n",
       "    </tr>\n",
       "    <tr>\n",
       "      <th>...</th>\n",
       "      <td>...</td>\n",
       "      <td>...</td>\n",
       "      <td>...</td>\n",
       "      <td>...</td>\n",
       "      <td>...</td>\n",
       "    </tr>\n",
       "    <tr>\n",
       "      <th>1195</th>\n",
       "      <td>56.775 TL</td>\n",
       "      <td>NaN</td>\n",
       "      <td>NaN</td>\n",
       "      <td>NaN</td>\n",
       "      <td>NaN</td>\n",
       "    </tr>\n",
       "    <tr>\n",
       "      <th>1196</th>\n",
       "      <td>40.000 TL</td>\n",
       "      <td>60 cm</td>\n",
       "      <td>326-350 L</td>\n",
       "      <td>191 cm</td>\n",
       "      <td>68 cm</td>\n",
       "    </tr>\n",
       "    <tr>\n",
       "      <th>1197</th>\n",
       "      <td>51.900 TL</td>\n",
       "      <td>70 cm</td>\n",
       "      <td>551-575 L</td>\n",
       "      <td>192 cm</td>\n",
       "      <td>74 cm</td>\n",
       "    </tr>\n",
       "    <tr>\n",
       "      <th>1198</th>\n",
       "      <td>25.999 TL</td>\n",
       "      <td>40 cm</td>\n",
       "      <td>200 L ve altı</td>\n",
       "      <td>57 cm</td>\n",
       "      <td>50 cm</td>\n",
       "    </tr>\n",
       "    <tr>\n",
       "      <th>1199</th>\n",
       "      <td>26.900 TL</td>\n",
       "      <td>41 cm</td>\n",
       "      <td>200 L ve altı</td>\n",
       "      <td>97 cm</td>\n",
       "      <td>48 cm</td>\n",
       "    </tr>\n",
       "  </tbody>\n",
       "</table>\n",
       "<p>1200 rows × 5 columns</p>\n",
       "</div>"
      ],
      "text/plain": [
       "          fiyat genislik   toplam_hacim yukseklik       derinlik\n",
       "0     19.001 TL    70 cm      451-475 L    187 cm          72 cm\n",
       "1     16.000 TL    70 cm      351-375 L    172 cm          65 cm\n",
       "2     10.522 TL    55 cm      226-250 L    143 cm          55 cm\n",
       "3      6.450 TL    45 cm  200 L ve altı     87 cm          52 cm\n",
       "4        999 TL    31 cm      201-225 L     33 cm  30 cm ve altı\n",
       "...         ...      ...            ...       ...            ...\n",
       "1195  56.775 TL      NaN            NaN       NaN            NaN\n",
       "1196  40.000 TL    60 cm      326-350 L    191 cm          68 cm\n",
       "1197  51.900 TL    70 cm      551-575 L    192 cm          74 cm\n",
       "1198  25.999 TL    40 cm  200 L ve altı     57 cm          50 cm\n",
       "1199  26.900 TL    41 cm  200 L ve altı     97 cm          48 cm\n",
       "\n",
       "[1200 rows x 5 columns]"
      ]
     },
     "execution_count": 274,
     "metadata": {},
     "output_type": "execute_result"
    }
   ],
   "source": [
    "df"
   ]
  },
  {
   "cell_type": "code",
   "execution_count": 275,
   "id": "801db1ce-9f5e-4aa2-99a6-48bd2b12a692",
   "metadata": {},
   "outputs": [
    {
     "name": "stdout",
     "output_type": "stream",
     "text": [
      "<class 'pandas.core.frame.DataFrame'>\n",
      "RangeIndex: 1200 entries, 0 to 1199\n",
      "Data columns (total 5 columns):\n",
      " #   Column        Non-Null Count  Dtype \n",
      "---  ------        --------------  ----- \n",
      " 0   fiyat         1200 non-null   object\n",
      " 1   genislik      1166 non-null   object\n",
      " 2   toplam_hacim  1192 non-null   object\n",
      " 3   yukseklik     1154 non-null   object\n",
      " 4   derinlik      1179 non-null   object\n",
      "dtypes: object(5)\n",
      "memory usage: 47.0+ KB\n"
     ]
    }
   ],
   "source": [
    "df.info()"
   ]
  },
  {
   "cell_type": "code",
   "execution_count": 276,
   "id": "ef958dd6-ca3c-48bb-b700-1924568d832a",
   "metadata": {},
   "outputs": [
    {
     "name": "stdout",
     "output_type": "stream",
     "text": [
      "      fiyat genislik   toplam_hacim yukseklik       derinlik\n",
      "0     19001    70 cm      451-475 L    187 cm          72 cm\n",
      "1     16000    70 cm      351-375 L    172 cm          65 cm\n",
      "2     10522    55 cm      226-250 L    143 cm          55 cm\n",
      "3      6450    45 cm  200 L ve altı     87 cm          52 cm\n",
      "4       999    31 cm      201-225 L     33 cm  30 cm ve altı\n",
      "...     ...      ...            ...       ...            ...\n",
      "1195  56775      NaN            NaN       NaN            NaN\n",
      "1196  40000    60 cm      326-350 L    191 cm          68 cm\n",
      "1197  51900    70 cm      551-575 L    192 cm          74 cm\n",
      "1198  25999    40 cm  200 L ve altı     57 cm          50 cm\n",
      "1199  26900    41 cm  200 L ve altı     97 cm          48 cm\n",
      "\n",
      "[1200 rows x 5 columns]\n"
     ]
    }
   ],
   "source": [
    "df['fiyat'] = df['fiyat'].str.replace('.', '', regex=False)  \n",
    "df['fiyat'] = df['fiyat'].str.replace(' TL', '', regex=False) \n",
    "df['fiyat'] = df['fiyat'].str.replace(',', '', regex=False) \n",
    "df['fiyat'] = pd.to_numeric(df['fiyat'])  \n",
    "\n",
    "print(df)"
   ]
  },
  {
   "cell_type": "code",
   "execution_count": 277,
   "id": "637ccb8f-d5ee-44de-b632-3243e08cfe30",
   "metadata": {},
   "outputs": [],
   "source": [
    "df['genislik'] = df['genislik'].str.replace('cm', '', regex=False)  \n",
    "df['toplam_hacim'] = df['toplam_hacim'].str.replace('L', '', regex=False)  \n",
    "df['yukseklik'] = df['yukseklik'].str.replace('cm', '', regex=False) \n",
    "df['derinlik'] = df['derinlik'].str.replace('cm', '', regex=False) \n"
   ]
  },
  {
   "cell_type": "code",
   "execution_count": 278,
   "id": "9f0b0d99-f9d3-45e9-9f82-c21ab3333845",
   "metadata": {},
   "outputs": [
    {
     "data": {
      "text/html": [
       "<div>\n",
       "<style scoped>\n",
       "    .dataframe tbody tr th:only-of-type {\n",
       "        vertical-align: middle;\n",
       "    }\n",
       "\n",
       "    .dataframe tbody tr th {\n",
       "        vertical-align: top;\n",
       "    }\n",
       "\n",
       "    .dataframe thead th {\n",
       "        text-align: right;\n",
       "    }\n",
       "</style>\n",
       "<table border=\"1\" class=\"dataframe\">\n",
       "  <thead>\n",
       "    <tr style=\"text-align: right;\">\n",
       "      <th></th>\n",
       "      <th>fiyat</th>\n",
       "      <th>genislik</th>\n",
       "      <th>toplam_hacim</th>\n",
       "      <th>yukseklik</th>\n",
       "      <th>derinlik</th>\n",
       "    </tr>\n",
       "  </thead>\n",
       "  <tbody>\n",
       "    <tr>\n",
       "      <th>0</th>\n",
       "      <td>19001</td>\n",
       "      <td>70</td>\n",
       "      <td>451-475</td>\n",
       "      <td>187</td>\n",
       "      <td>72</td>\n",
       "    </tr>\n",
       "    <tr>\n",
       "      <th>1</th>\n",
       "      <td>16000</td>\n",
       "      <td>70</td>\n",
       "      <td>351-375</td>\n",
       "      <td>172</td>\n",
       "      <td>65</td>\n",
       "    </tr>\n",
       "    <tr>\n",
       "      <th>2</th>\n",
       "      <td>10522</td>\n",
       "      <td>55</td>\n",
       "      <td>226-250</td>\n",
       "      <td>143</td>\n",
       "      <td>55</td>\n",
       "    </tr>\n",
       "    <tr>\n",
       "      <th>3</th>\n",
       "      <td>6450</td>\n",
       "      <td>45</td>\n",
       "      <td>200  ve altı</td>\n",
       "      <td>87</td>\n",
       "      <td>52</td>\n",
       "    </tr>\n",
       "    <tr>\n",
       "      <th>4</th>\n",
       "      <td>999</td>\n",
       "      <td>31</td>\n",
       "      <td>201-225</td>\n",
       "      <td>33</td>\n",
       "      <td>30  ve altı</td>\n",
       "    </tr>\n",
       "    <tr>\n",
       "      <th>...</th>\n",
       "      <td>...</td>\n",
       "      <td>...</td>\n",
       "      <td>...</td>\n",
       "      <td>...</td>\n",
       "      <td>...</td>\n",
       "    </tr>\n",
       "    <tr>\n",
       "      <th>1195</th>\n",
       "      <td>56775</td>\n",
       "      <td>NaN</td>\n",
       "      <td>NaN</td>\n",
       "      <td>NaN</td>\n",
       "      <td>NaN</td>\n",
       "    </tr>\n",
       "    <tr>\n",
       "      <th>1196</th>\n",
       "      <td>40000</td>\n",
       "      <td>60</td>\n",
       "      <td>326-350</td>\n",
       "      <td>191</td>\n",
       "      <td>68</td>\n",
       "    </tr>\n",
       "    <tr>\n",
       "      <th>1197</th>\n",
       "      <td>51900</td>\n",
       "      <td>70</td>\n",
       "      <td>551-575</td>\n",
       "      <td>192</td>\n",
       "      <td>74</td>\n",
       "    </tr>\n",
       "    <tr>\n",
       "      <th>1198</th>\n",
       "      <td>25999</td>\n",
       "      <td>40</td>\n",
       "      <td>200  ve altı</td>\n",
       "      <td>57</td>\n",
       "      <td>50</td>\n",
       "    </tr>\n",
       "    <tr>\n",
       "      <th>1199</th>\n",
       "      <td>26900</td>\n",
       "      <td>41</td>\n",
       "      <td>200  ve altı</td>\n",
       "      <td>97</td>\n",
       "      <td>48</td>\n",
       "    </tr>\n",
       "  </tbody>\n",
       "</table>\n",
       "<p>1200 rows × 5 columns</p>\n",
       "</div>"
      ],
      "text/plain": [
       "      fiyat genislik  toplam_hacim yukseklik     derinlik\n",
       "0     19001      70       451-475       187           72 \n",
       "1     16000      70       351-375       172           65 \n",
       "2     10522      55       226-250       143           55 \n",
       "3      6450      45   200  ve altı       87           52 \n",
       "4       999      31       201-225        33   30  ve altı\n",
       "...     ...      ...           ...       ...          ...\n",
       "1195  56775      NaN           NaN       NaN          NaN\n",
       "1196  40000      60       326-350       191           68 \n",
       "1197  51900      70       551-575       192           74 \n",
       "1198  25999      40   200  ve altı       57           50 \n",
       "1199  26900      41   200  ve altı       97           48 \n",
       "\n",
       "[1200 rows x 5 columns]"
      ]
     },
     "execution_count": 278,
     "metadata": {},
     "output_type": "execute_result"
    }
   ],
   "source": [
    "df"
   ]
  },
  {
   "cell_type": "code",
   "execution_count": 279,
   "id": "0e2b993c-b0e9-42c0-801e-dffd827d3820",
   "metadata": {},
   "outputs": [
    {
     "name": "stdout",
     "output_type": "stream",
     "text": [
      "<class 'pandas.core.frame.DataFrame'>\n",
      "RangeIndex: 1200 entries, 0 to 1199\n",
      "Data columns (total 5 columns):\n",
      " #   Column        Non-Null Count  Dtype \n",
      "---  ------        --------------  ----- \n",
      " 0   fiyat         1200 non-null   int64 \n",
      " 1   genislik      1166 non-null   object\n",
      " 2   toplam_hacim  1192 non-null   object\n",
      " 3   yukseklik     1154 non-null   object\n",
      " 4   derinlik      1179 non-null   object\n",
      "dtypes: int64(1), object(4)\n",
      "memory usage: 47.0+ KB\n"
     ]
    }
   ],
   "source": [
    "df.info()"
   ]
  },
  {
   "cell_type": "code",
   "execution_count": 280,
   "id": "0a130d79-09cf-42bf-8c31-1f5691541b6f",
   "metadata": {},
   "outputs": [],
   "source": [
    "\n",
    "df['toplam_hacim'] = df['toplam_hacim'].str.replace('ve altı', '', regex=False) \n",
    "df['derinlik'] = df['derinlik'].str.replace('ve altı', '' ,regex=False) \n"
   ]
  },
  {
   "cell_type": "code",
   "execution_count": 281,
   "id": "ff7ae0a1-6afb-4d56-b032-a6275092fb66",
   "metadata": {},
   "outputs": [
    {
     "data": {
      "text/html": [
       "<div>\n",
       "<style scoped>\n",
       "    .dataframe tbody tr th:only-of-type {\n",
       "        vertical-align: middle;\n",
       "    }\n",
       "\n",
       "    .dataframe tbody tr th {\n",
       "        vertical-align: top;\n",
       "    }\n",
       "\n",
       "    .dataframe thead th {\n",
       "        text-align: right;\n",
       "    }\n",
       "</style>\n",
       "<table border=\"1\" class=\"dataframe\">\n",
       "  <thead>\n",
       "    <tr style=\"text-align: right;\">\n",
       "      <th></th>\n",
       "      <th>fiyat</th>\n",
       "      <th>genislik</th>\n",
       "      <th>toplam_hacim</th>\n",
       "      <th>yukseklik</th>\n",
       "      <th>derinlik</th>\n",
       "    </tr>\n",
       "  </thead>\n",
       "  <tbody>\n",
       "    <tr>\n",
       "      <th>0</th>\n",
       "      <td>19001</td>\n",
       "      <td>70</td>\n",
       "      <td>451-475</td>\n",
       "      <td>187</td>\n",
       "      <td>72</td>\n",
       "    </tr>\n",
       "    <tr>\n",
       "      <th>1</th>\n",
       "      <td>16000</td>\n",
       "      <td>70</td>\n",
       "      <td>351-375</td>\n",
       "      <td>172</td>\n",
       "      <td>65</td>\n",
       "    </tr>\n",
       "    <tr>\n",
       "      <th>2</th>\n",
       "      <td>10522</td>\n",
       "      <td>55</td>\n",
       "      <td>226-250</td>\n",
       "      <td>143</td>\n",
       "      <td>55</td>\n",
       "    </tr>\n",
       "    <tr>\n",
       "      <th>3</th>\n",
       "      <td>6450</td>\n",
       "      <td>45</td>\n",
       "      <td>200</td>\n",
       "      <td>87</td>\n",
       "      <td>52</td>\n",
       "    </tr>\n",
       "    <tr>\n",
       "      <th>4</th>\n",
       "      <td>999</td>\n",
       "      <td>31</td>\n",
       "      <td>201-225</td>\n",
       "      <td>33</td>\n",
       "      <td>30</td>\n",
       "    </tr>\n",
       "    <tr>\n",
       "      <th>...</th>\n",
       "      <td>...</td>\n",
       "      <td>...</td>\n",
       "      <td>...</td>\n",
       "      <td>...</td>\n",
       "      <td>...</td>\n",
       "    </tr>\n",
       "    <tr>\n",
       "      <th>1195</th>\n",
       "      <td>56775</td>\n",
       "      <td>NaN</td>\n",
       "      <td>NaN</td>\n",
       "      <td>NaN</td>\n",
       "      <td>NaN</td>\n",
       "    </tr>\n",
       "    <tr>\n",
       "      <th>1196</th>\n",
       "      <td>40000</td>\n",
       "      <td>60</td>\n",
       "      <td>326-350</td>\n",
       "      <td>191</td>\n",
       "      <td>68</td>\n",
       "    </tr>\n",
       "    <tr>\n",
       "      <th>1197</th>\n",
       "      <td>51900</td>\n",
       "      <td>70</td>\n",
       "      <td>551-575</td>\n",
       "      <td>192</td>\n",
       "      <td>74</td>\n",
       "    </tr>\n",
       "    <tr>\n",
       "      <th>1198</th>\n",
       "      <td>25999</td>\n",
       "      <td>40</td>\n",
       "      <td>200</td>\n",
       "      <td>57</td>\n",
       "      <td>50</td>\n",
       "    </tr>\n",
       "    <tr>\n",
       "      <th>1199</th>\n",
       "      <td>26900</td>\n",
       "      <td>41</td>\n",
       "      <td>200</td>\n",
       "      <td>97</td>\n",
       "      <td>48</td>\n",
       "    </tr>\n",
       "  </tbody>\n",
       "</table>\n",
       "<p>1200 rows × 5 columns</p>\n",
       "</div>"
      ],
      "text/plain": [
       "      fiyat genislik toplam_hacim yukseklik derinlik\n",
       "0     19001      70      451-475       187       72 \n",
       "1     16000      70      351-375       172       65 \n",
       "2     10522      55      226-250       143       55 \n",
       "3      6450      45         200         87       52 \n",
       "4       999      31      201-225        33      30  \n",
       "...     ...      ...          ...       ...      ...\n",
       "1195  56775      NaN          NaN       NaN      NaN\n",
       "1196  40000      60      326-350       191       68 \n",
       "1197  51900      70      551-575       192       74 \n",
       "1198  25999      40         200         57       50 \n",
       "1199  26900      41         200         97       48 \n",
       "\n",
       "[1200 rows x 5 columns]"
      ]
     },
     "execution_count": 281,
     "metadata": {},
     "output_type": "execute_result"
    }
   ],
   "source": [
    "df"
   ]
  },
  {
   "cell_type": "code",
   "execution_count": 282,
   "id": "0dfb15c4-ecb8-4940-a976-0d31456f511e",
   "metadata": {},
   "outputs": [],
   "source": [
    "df['toplam_hacim'] = pd.to_numeric(df['toplam_hacim'], errors='coerce').astype('Int64')\n",
    "df['genislik'] = pd.to_numeric(df['genislik'], errors='coerce').astype('Int64')\n",
    "df['yukseklik'] = pd.to_numeric(df['yukseklik'], errors='coerce').astype('Int64')\n",
    "df['derinlik'] = pd.to_numeric(df['derinlik'], errors='coerce').astype('Int64')"
   ]
  },
  {
   "cell_type": "code",
   "execution_count": 283,
   "id": "713570ea-39ab-4e53-a918-64a021df7f9a",
   "metadata": {},
   "outputs": [
    {
     "name": "stdout",
     "output_type": "stream",
     "text": [
      "<class 'pandas.core.frame.DataFrame'>\n",
      "RangeIndex: 1200 entries, 0 to 1199\n",
      "Data columns (total 5 columns):\n",
      " #   Column        Non-Null Count  Dtype\n",
      "---  ------        --------------  -----\n",
      " 0   fiyat         1200 non-null   int64\n",
      " 1   genislik      1139 non-null   Int64\n",
      " 2   toplam_hacim  92 non-null     Int64\n",
      " 3   yukseklik     1131 non-null   Int64\n",
      " 4   derinlik      1151 non-null   Int64\n",
      "dtypes: Int64(4), int64(1)\n",
      "memory usage: 51.7 KB\n"
     ]
    }
   ],
   "source": [
    "df.info()"
   ]
  },
  {
   "cell_type": "code",
   "execution_count": 284,
   "id": "0addfefc-0978-4e65-ad08-e76ebc59d448",
   "metadata": {},
   "outputs": [
    {
     "name": "stdout",
     "output_type": "stream",
     "text": [
      "      fiyat  genislik  toplam_hacim  yukseklik  derinlik\n",
      "0     19001        70           NaN        187        72\n",
      "1     16000        70           NaN        172        65\n",
      "2     10522        55           NaN        143        55\n",
      "3      6450        45         200.0         87        52\n",
      "4       999        31           NaN         33        30\n",
      "...     ...       ...           ...        ...       ...\n",
      "1195  56775      <NA>           NaN       <NA>      <NA>\n",
      "1196  40000        60           NaN        191        68\n",
      "1197  51900        70           NaN        192        74\n",
      "1198  25999        40         200.0         57        50\n",
      "1199  26900        41         200.0         97        48\n",
      "\n",
      "[1200 rows x 5 columns]\n"
     ]
    }
   ],
   "source": [
    "def calculate_average(value):\n",
    "    if isinstance(value, str) and '-' in value:  # Değer bir string ve \"-\" içeriyorsa\n",
    "        start, end = map(int, value.split('-'))  # \"-\" ile ayrılan iki sayıyı al\n",
    "        return (start + end) / 2  # Ortalamasını hesapla\n",
    "    return value  # Değer uygun değilse olduğu gibi bırak\n",
    "\n",
    "df['toplam_hacim'] = df['toplam_hacim'].apply(calculate_average)\n",
    "\n",
    "print(df)"
   ]
  },
  {
   "cell_type": "code",
   "execution_count": 285,
   "id": "088e1cfa-02c3-4846-909a-69cdba12c1cc",
   "metadata": {},
   "outputs": [
    {
     "name": "stdout",
     "output_type": "stream",
     "text": [
      "<class 'pandas.core.frame.DataFrame'>\n",
      "RangeIndex: 1200 entries, 0 to 1199\n",
      "Data columns (total 5 columns):\n",
      " #   Column        Non-Null Count  Dtype  \n",
      "---  ------        --------------  -----  \n",
      " 0   fiyat         1200 non-null   int64  \n",
      " 1   genislik      1139 non-null   Int64  \n",
      " 2   toplam_hacim  92 non-null     float64\n",
      " 3   yukseklik     1131 non-null   Int64  \n",
      " 4   derinlik      1151 non-null   Int64  \n",
      "dtypes: Int64(3), float64(1), int64(1)\n",
      "memory usage: 50.5 KB\n"
     ]
    }
   ],
   "source": [
    "df.info()"
   ]
  },
  {
   "cell_type": "code",
   "execution_count": 286,
   "id": "f845122b-2eb6-4a56-8446-49c6701a4de4",
   "metadata": {},
   "outputs": [
    {
     "data": {
      "text/html": [
       "<div>\n",
       "<style scoped>\n",
       "    .dataframe tbody tr th:only-of-type {\n",
       "        vertical-align: middle;\n",
       "    }\n",
       "\n",
       "    .dataframe tbody tr th {\n",
       "        vertical-align: top;\n",
       "    }\n",
       "\n",
       "    .dataframe thead th {\n",
       "        text-align: right;\n",
       "    }\n",
       "</style>\n",
       "<table border=\"1\" class=\"dataframe\">\n",
       "  <thead>\n",
       "    <tr style=\"text-align: right;\">\n",
       "      <th></th>\n",
       "      <th>fiyat</th>\n",
       "      <th>genislik</th>\n",
       "      <th>toplam_hacim</th>\n",
       "      <th>yukseklik</th>\n",
       "      <th>derinlik</th>\n",
       "    </tr>\n",
       "  </thead>\n",
       "  <tbody>\n",
       "    <tr>\n",
       "      <th>0</th>\n",
       "      <td>19001</td>\n",
       "      <td>70</td>\n",
       "      <td>NaN</td>\n",
       "      <td>187</td>\n",
       "      <td>72</td>\n",
       "    </tr>\n",
       "    <tr>\n",
       "      <th>1</th>\n",
       "      <td>16000</td>\n",
       "      <td>70</td>\n",
       "      <td>NaN</td>\n",
       "      <td>172</td>\n",
       "      <td>65</td>\n",
       "    </tr>\n",
       "    <tr>\n",
       "      <th>2</th>\n",
       "      <td>10522</td>\n",
       "      <td>55</td>\n",
       "      <td>NaN</td>\n",
       "      <td>143</td>\n",
       "      <td>55</td>\n",
       "    </tr>\n",
       "    <tr>\n",
       "      <th>3</th>\n",
       "      <td>6450</td>\n",
       "      <td>45</td>\n",
       "      <td>200.0</td>\n",
       "      <td>87</td>\n",
       "      <td>52</td>\n",
       "    </tr>\n",
       "    <tr>\n",
       "      <th>4</th>\n",
       "      <td>999</td>\n",
       "      <td>31</td>\n",
       "      <td>NaN</td>\n",
       "      <td>33</td>\n",
       "      <td>30</td>\n",
       "    </tr>\n",
       "    <tr>\n",
       "      <th>...</th>\n",
       "      <td>...</td>\n",
       "      <td>...</td>\n",
       "      <td>...</td>\n",
       "      <td>...</td>\n",
       "      <td>...</td>\n",
       "    </tr>\n",
       "    <tr>\n",
       "      <th>1195</th>\n",
       "      <td>56775</td>\n",
       "      <td>&lt;NA&gt;</td>\n",
       "      <td>NaN</td>\n",
       "      <td>&lt;NA&gt;</td>\n",
       "      <td>&lt;NA&gt;</td>\n",
       "    </tr>\n",
       "    <tr>\n",
       "      <th>1196</th>\n",
       "      <td>40000</td>\n",
       "      <td>60</td>\n",
       "      <td>NaN</td>\n",
       "      <td>191</td>\n",
       "      <td>68</td>\n",
       "    </tr>\n",
       "    <tr>\n",
       "      <th>1197</th>\n",
       "      <td>51900</td>\n",
       "      <td>70</td>\n",
       "      <td>NaN</td>\n",
       "      <td>192</td>\n",
       "      <td>74</td>\n",
       "    </tr>\n",
       "    <tr>\n",
       "      <th>1198</th>\n",
       "      <td>25999</td>\n",
       "      <td>40</td>\n",
       "      <td>200.0</td>\n",
       "      <td>57</td>\n",
       "      <td>50</td>\n",
       "    </tr>\n",
       "    <tr>\n",
       "      <th>1199</th>\n",
       "      <td>26900</td>\n",
       "      <td>41</td>\n",
       "      <td>200.0</td>\n",
       "      <td>97</td>\n",
       "      <td>48</td>\n",
       "    </tr>\n",
       "  </tbody>\n",
       "</table>\n",
       "<p>1200 rows × 5 columns</p>\n",
       "</div>"
      ],
      "text/plain": [
       "      fiyat  genislik  toplam_hacim  yukseklik  derinlik\n",
       "0     19001        70           NaN        187        72\n",
       "1     16000        70           NaN        172        65\n",
       "2     10522        55           NaN        143        55\n",
       "3      6450        45         200.0         87        52\n",
       "4       999        31           NaN         33        30\n",
       "...     ...       ...           ...        ...       ...\n",
       "1195  56775      <NA>           NaN       <NA>      <NA>\n",
       "1196  40000        60           NaN        191        68\n",
       "1197  51900        70           NaN        192        74\n",
       "1198  25999        40         200.0         57        50\n",
       "1199  26900        41         200.0         97        48\n",
       "\n",
       "[1200 rows x 5 columns]"
      ]
     },
     "execution_count": 286,
     "metadata": {},
     "output_type": "execute_result"
    }
   ],
   "source": [
    "df"
   ]
  },
  {
   "cell_type": "code",
   "execution_count": 287,
   "id": "17e56a6c-797e-42cd-b274-fe816b4bc410",
   "metadata": {},
   "outputs": [],
   "source": [
    "df = df.apply(lambda col: col.fillna(col.mean()) if col.dtypes in ['float64', 'int64'] else col, axis=0)"
   ]
  },
  {
   "cell_type": "code",
   "execution_count": 288,
   "id": "b6dd4558-66df-415e-9734-e91204189c33",
   "metadata": {},
   "outputs": [
    {
     "data": {
      "text/html": [
       "<div>\n",
       "<style scoped>\n",
       "    .dataframe tbody tr th:only-of-type {\n",
       "        vertical-align: middle;\n",
       "    }\n",
       "\n",
       "    .dataframe tbody tr th {\n",
       "        vertical-align: top;\n",
       "    }\n",
       "\n",
       "    .dataframe thead th {\n",
       "        text-align: right;\n",
       "    }\n",
       "</style>\n",
       "<table border=\"1\" class=\"dataframe\">\n",
       "  <thead>\n",
       "    <tr style=\"text-align: right;\">\n",
       "      <th></th>\n",
       "      <th>fiyat</th>\n",
       "      <th>genislik</th>\n",
       "      <th>toplam_hacim</th>\n",
       "      <th>yukseklik</th>\n",
       "      <th>derinlik</th>\n",
       "    </tr>\n",
       "  </thead>\n",
       "  <tbody>\n",
       "    <tr>\n",
       "      <th>0</th>\n",
       "      <td>19001</td>\n",
       "      <td>70</td>\n",
       "      <td>200.0</td>\n",
       "      <td>187</td>\n",
       "      <td>72</td>\n",
       "    </tr>\n",
       "    <tr>\n",
       "      <th>1</th>\n",
       "      <td>16000</td>\n",
       "      <td>70</td>\n",
       "      <td>200.0</td>\n",
       "      <td>172</td>\n",
       "      <td>65</td>\n",
       "    </tr>\n",
       "    <tr>\n",
       "      <th>2</th>\n",
       "      <td>10522</td>\n",
       "      <td>55</td>\n",
       "      <td>200.0</td>\n",
       "      <td>143</td>\n",
       "      <td>55</td>\n",
       "    </tr>\n",
       "    <tr>\n",
       "      <th>3</th>\n",
       "      <td>6450</td>\n",
       "      <td>45</td>\n",
       "      <td>200.0</td>\n",
       "      <td>87</td>\n",
       "      <td>52</td>\n",
       "    </tr>\n",
       "    <tr>\n",
       "      <th>4</th>\n",
       "      <td>999</td>\n",
       "      <td>31</td>\n",
       "      <td>200.0</td>\n",
       "      <td>33</td>\n",
       "      <td>30</td>\n",
       "    </tr>\n",
       "    <tr>\n",
       "      <th>...</th>\n",
       "      <td>...</td>\n",
       "      <td>...</td>\n",
       "      <td>...</td>\n",
       "      <td>...</td>\n",
       "      <td>...</td>\n",
       "    </tr>\n",
       "    <tr>\n",
       "      <th>1195</th>\n",
       "      <td>56775</td>\n",
       "      <td>&lt;NA&gt;</td>\n",
       "      <td>200.0</td>\n",
       "      <td>&lt;NA&gt;</td>\n",
       "      <td>&lt;NA&gt;</td>\n",
       "    </tr>\n",
       "    <tr>\n",
       "      <th>1196</th>\n",
       "      <td>40000</td>\n",
       "      <td>60</td>\n",
       "      <td>200.0</td>\n",
       "      <td>191</td>\n",
       "      <td>68</td>\n",
       "    </tr>\n",
       "    <tr>\n",
       "      <th>1197</th>\n",
       "      <td>51900</td>\n",
       "      <td>70</td>\n",
       "      <td>200.0</td>\n",
       "      <td>192</td>\n",
       "      <td>74</td>\n",
       "    </tr>\n",
       "    <tr>\n",
       "      <th>1198</th>\n",
       "      <td>25999</td>\n",
       "      <td>40</td>\n",
       "      <td>200.0</td>\n",
       "      <td>57</td>\n",
       "      <td>50</td>\n",
       "    </tr>\n",
       "    <tr>\n",
       "      <th>1199</th>\n",
       "      <td>26900</td>\n",
       "      <td>41</td>\n",
       "      <td>200.0</td>\n",
       "      <td>97</td>\n",
       "      <td>48</td>\n",
       "    </tr>\n",
       "  </tbody>\n",
       "</table>\n",
       "<p>1200 rows × 5 columns</p>\n",
       "</div>"
      ],
      "text/plain": [
       "      fiyat  genislik  toplam_hacim  yukseklik  derinlik\n",
       "0     19001        70         200.0        187        72\n",
       "1     16000        70         200.0        172        65\n",
       "2     10522        55         200.0        143        55\n",
       "3      6450        45         200.0         87        52\n",
       "4       999        31         200.0         33        30\n",
       "...     ...       ...           ...        ...       ...\n",
       "1195  56775      <NA>         200.0       <NA>      <NA>\n",
       "1196  40000        60         200.0        191        68\n",
       "1197  51900        70         200.0        192        74\n",
       "1198  25999        40         200.0         57        50\n",
       "1199  26900        41         200.0         97        48\n",
       "\n",
       "[1200 rows x 5 columns]"
      ]
     },
     "execution_count": 288,
     "metadata": {},
     "output_type": "execute_result"
    }
   ],
   "source": [
    "df"
   ]
  },
  {
   "cell_type": "code",
   "execution_count": 289,
   "id": "6c9660b2-b17a-4b4d-8a5d-ab7845dc28a6",
   "metadata": {},
   "outputs": [
    {
     "name": "stdout",
     "output_type": "stream",
     "text": [
      "<class 'pandas.core.frame.DataFrame'>\n",
      "RangeIndex: 1200 entries, 0 to 1199\n",
      "Data columns (total 5 columns):\n",
      " #   Column        Non-Null Count  Dtype  \n",
      "---  ------        --------------  -----  \n",
      " 0   fiyat         1200 non-null   int64  \n",
      " 1   genislik      1139 non-null   Int64  \n",
      " 2   toplam_hacim  1200 non-null   float64\n",
      " 3   yukseklik     1131 non-null   Int64  \n",
      " 4   derinlik      1151 non-null   Int64  \n",
      "dtypes: Int64(3), float64(1), int64(1)\n",
      "memory usage: 50.5 KB\n"
     ]
    }
   ],
   "source": [
    "df.info()"
   ]
  },
  {
   "cell_type": "code",
   "execution_count": 290,
   "id": "d66ce0bf-f894-4db9-8670-d62454b6bc14",
   "metadata": {},
   "outputs": [],
   "source": [
    "df = df.apply(\n",
    "    lambda col: col.fillna(col.mean()).round(0).astype('int') if col.dtypes in ['float64', 'int64'] else col\n",
    ")"
   ]
  },
  {
   "cell_type": "code",
   "execution_count": 291,
   "id": "a20b9079-69c1-4c41-ad35-85b447b8dff9",
   "metadata": {},
   "outputs": [
    {
     "name": "stdout",
     "output_type": "stream",
     "text": [
      "<class 'pandas.core.frame.DataFrame'>\n",
      "RangeIndex: 1200 entries, 0 to 1199\n",
      "Data columns (total 5 columns):\n",
      " #   Column        Non-Null Count  Dtype\n",
      "---  ------        --------------  -----\n",
      " 0   fiyat         1200 non-null   int32\n",
      " 1   genislik      1139 non-null   Int64\n",
      " 2   toplam_hacim  1200 non-null   int32\n",
      " 3   yukseklik     1131 non-null   Int64\n",
      " 4   derinlik      1151 non-null   Int64\n",
      "dtypes: Int64(3), int32(2)\n",
      "memory usage: 41.1 KB\n"
     ]
    }
   ],
   "source": [
    "df.info()"
   ]
  },
  {
   "cell_type": "code",
   "execution_count": 292,
   "id": "2945a307-883f-4dc5-bd11-eb888647c1ce",
   "metadata": {},
   "outputs": [
    {
     "name": "stdout",
     "output_type": "stream",
     "text": [
      "      fiyat  genislik  toplam_hacim  yukseklik  derinlik\n",
      "0     19001        70           200        187        72\n",
      "1     16000        70           200        172        65\n",
      "2     10522        55           200        143        55\n",
      "3      6450        45           200         87        52\n",
      "4       999        31           200         33        30\n",
      "...     ...       ...           ...        ...       ...\n",
      "1194  30999        59           200        186        66\n",
      "1196  40000        60           200        191        68\n",
      "1197  51900        70           200        192        74\n",
      "1198  25999        40           200         57        50\n",
      "1199  26900        41           200         97        48\n",
      "\n",
      "[1128 rows x 5 columns]\n"
     ]
    }
   ],
   "source": [
    "\n",
    "\n",
    "\n",
    "\n",
    "\n",
    "# Belirtilen sütunlardaki sayısal olmayan değerleri filtreleyip NaN yap\n",
    "cols_to_clean = ['genislik', 'derinlik', 'yukseklik']\n",
    "for col in cols_to_clean:\n",
    "    df[col] = pd.to_numeric(df[col], errors='coerce')\n",
    "\n",
    "# Sayısal olmayan değerler NaN oldu; bu satırları sil\n",
    "df = df.dropna(subset=cols_to_clean)\n",
    "\n",
    "print(df)\n"
   ]
  },
  {
   "cell_type": "code",
   "execution_count": 293,
   "id": "23dc7c5c-d203-43f5-a28e-811e93b33865",
   "metadata": {},
   "outputs": [
    {
     "name": "stdout",
     "output_type": "stream",
     "text": [
      "<class 'pandas.core.frame.DataFrame'>\n",
      "Index: 1128 entries, 0 to 1199\n",
      "Data columns (total 5 columns):\n",
      " #   Column        Non-Null Count  Dtype\n",
      "---  ------        --------------  -----\n",
      " 0   fiyat         1128 non-null   int32\n",
      " 1   genislik      1128 non-null   Int64\n",
      " 2   toplam_hacim  1128 non-null   int32\n",
      " 3   yukseklik     1128 non-null   Int64\n",
      " 4   derinlik      1128 non-null   Int64\n",
      "dtypes: Int64(3), int32(2)\n",
      "memory usage: 47.4 KB\n"
     ]
    }
   ],
   "source": [
    "df.info()"
   ]
  },
  {
   "cell_type": "code",
   "execution_count": 294,
   "id": "1a243d03-d5cb-40f5-9392-df9bfa2bf0c8",
   "metadata": {},
   "outputs": [],
   "source": [
    "df[['fiyat', 'toplam_hacim']] = df[['fiyat', 'toplam_hacim']].astype('int64')\n"
   ]
  },
  {
   "cell_type": "code",
   "execution_count": 295,
   "id": "10bc4507-48de-443b-8f96-2bb48efea80d",
   "metadata": {},
   "outputs": [
    {
     "name": "stdout",
     "output_type": "stream",
     "text": [
      "<class 'pandas.core.frame.DataFrame'>\n",
      "Index: 1128 entries, 0 to 1199\n",
      "Data columns (total 5 columns):\n",
      " #   Column        Non-Null Count  Dtype\n",
      "---  ------        --------------  -----\n",
      " 0   fiyat         1128 non-null   int64\n",
      " 1   genislik      1128 non-null   Int64\n",
      " 2   toplam_hacim  1128 non-null   int64\n",
      " 3   yukseklik     1128 non-null   Int64\n",
      " 4   derinlik      1128 non-null   Int64\n",
      "dtypes: Int64(3), int64(2)\n",
      "memory usage: 56.2 KB\n"
     ]
    }
   ],
   "source": [
    "df.info()"
   ]
  },
  {
   "cell_type": "code",
   "execution_count": 296,
   "id": "5b89e1bb-4186-4e25-93bf-5a760a71f1da",
   "metadata": {},
   "outputs": [
    {
     "name": "stdout",
     "output_type": "stream",
     "text": [
      "   fiyat  genislik  yukseklik\n",
      "0  19001        70        187\n",
      "1  16000        70        172\n",
      "2  10522        55        143\n",
      "3   6450        45         87\n",
      "4    999        31         33\n"
     ]
    }
   ],
   "source": [
    "# derinlik ve toplam_hacim sütunlarını sil\n",
    "df = df.drop(['derinlik', 'toplam_hacim'], axis=1)\n",
    "\n",
    "# Güncellenmiş DataFrame'i kontrol et\n",
    "print(df.head())\n"
   ]
  },
  {
   "cell_type": "code",
   "execution_count": 297,
   "id": "34379aa1-7c5d-4133-9d43-396a7c56e3c5",
   "metadata": {},
   "outputs": [],
   "source": [
    "x=df.drop(\"fiyat\",axis=1)\n",
    "y=df[\"fiyat\"]"
   ]
  },
  {
   "cell_type": "code",
   "execution_count": 298,
   "id": "9ac0fdaa-bd54-4beb-bc90-5135ad9c7979",
   "metadata": {},
   "outputs": [],
   "source": [
    "x_train,x_test,y_train,y_test = train_test_split(x,y,test_size=0.2,random_state=42)"
   ]
  },
  {
   "cell_type": "code",
   "execution_count": 299,
   "id": "8c59850d-55d6-45d4-811c-125b9d622cec",
   "metadata": {},
   "outputs": [
    {
     "data": {
      "text/plain": [
       "-0.028865666620851327"
      ]
     },
     "execution_count": 299,
     "metadata": {},
     "output_type": "execute_result"
    }
   ],
   "source": [
    "lr=LinearRegression()\n",
    "model=lr.fit(x_train,y_train)\n",
    "model.score(x_test,y_test)\n"
   ]
  },
  {
   "cell_type": "code",
   "execution_count": 300,
   "id": "03810e0f-09cb-47bb-93db-2f60a5c2afae",
   "metadata": {},
   "outputs": [],
   "source": [
    "y_pred = lr.predict(x_test)"
   ]
  },
  {
   "cell_type": "code",
   "execution_count": 301,
   "id": "a6c6afde-0e83-46c4-bab4-d1b480b78ff6",
   "metadata": {},
   "outputs": [
    {
     "name": "stdout",
     "output_type": "stream",
     "text": [
      "Root Mean Squared Error (RMSE): 661729.4333464183\n"
     ]
    }
   ],
   "source": [
    "mse = mean_squared_error(y_test, y_pred)\n",
    "rmse = mse ** 0.5  # Kök kare hata\n",
    "print(f\"Root Mean Squared Error (RMSE): {rmse}\")"
   ]
  },
  {
   "cell_type": "code",
   "execution_count": 302,
   "id": "ef66f0d2-3902-480c-b76c-6117df11e93c",
   "metadata": {},
   "outputs": [
    {
     "data": {
      "image/png": "[encoded data removed]",
      "text/plain": [
       "<Figure size 800x600 with 1 Axes>"
      ]
     },
     "metadata": {},
     "output_type": "display_data"
    }
   ],
   "source": [
    "plt.figure(figsize=(8, 6))  # Şekil boyutunu ayarlıyoruz\n",
    "\n",
    "# Verileri çiz\n",
    "plt.plot(x, y, label='Çizgi Grafiği')\n",
    "\n",
    "# Grafik için ek ayarlar\n",
    "plt.xlabel('X Ekseni')\n",
    "plt.ylabel('Y Ekseni')\n",
    "plt.title('Örnek Grafik')\n",
    "plt.legend()\n",
    "\n",
    "# Grafiği göster\n",
    "plt.show()"
   ]
  },
  {
   "cell_type": "code",
   "execution_count": 303,
   "id": "d6282473-55f7-4bae-a57b-d055325337d3",
   "metadata": {},
   "outputs": [
    {
     "name": "stdout",
     "output_type": "stream",
     "text": [
      "fiyat        0\n",
      "genislik     0\n",
      "yukseklik    0\n",
      "dtype: int64\n"
     ]
    }
   ],
   "source": [
    "print(df.isnull().sum())  # Eksik değerleri kontrol edin\n"
   ]
  },
  {
   "cell_type": "code",
   "execution_count": 304,
   "id": "29375879-da60-4c61-afef-a58fc03416cc",
   "metadata": {},
   "outputs": [],
   "source": [
    "scaler = StandardScaler()\n",
    "x_scaled = scaler.fit_transform(x)"
   ]
  },
  {
   "cell_type": "code",
   "execution_count": 305,
   "id": "506032eb-d603-4fe5-ac73-23d3aa6d0e6a",
   "metadata": {},
   "outputs": [
    {
     "data": {
      "text/plain": [
       "-0.028865666620851327"
      ]
     },
     "execution_count": 305,
     "metadata": {},
     "output_type": "execute_result"
    }
   ],
   "source": [
    "lr=LinearRegression()\n",
    "model=lr.fit(x_train,y_train)\n",
    "model.score(x_test,y_test)"
   ]
  },
  {
   "cell_type": "code",
   "execution_count": 306,
   "id": "654214d1-d757-4e95-bd3f-e50306e02a9e",
   "metadata": {},
   "outputs": [
    {
     "data": {
      "image/png": "[encoded data removed]",
      "text/plain": [
       "<Figure size 640x480 with 2 Axes>"
      ]
     },
     "metadata": {},
     "output_type": "display_data"
    }
   ],
   "source": [
    "corr = df.corr()\n",
    "sns.heatmap(corr, annot=True, cmap='coolwarm')\n",
    "plt.show()"
   ]
  },
  {
   "cell_type": "code",
   "execution_count": 307,
   "id": "e71fece2-be0d-444e-bdc1-3ad2e53867dd",
   "metadata": {},
   "outputs": [
    {
     "name": "stdout",
     "output_type": "stream",
     "text": [
      "0.041122024229732324\n"
     ]
    }
   ],
   "source": [
    "\n",
    "\n",
    "rf_model = RandomForestRegressor(random_state=42)\n",
    "rf_model.fit(x_train, y_train)\n",
    "print(rf_model.score(x_test, y_test))"
   ]
  },
  {
   "cell_type": "code",
   "execution_count": 308,
   "id": "f9462465-d9a1-43b8-aca0-a130de5c333d",
   "metadata": {},
   "outputs": [
    {
     "name": "stdout",
     "output_type": "stream",
     "text": [
      "Cross-validated R^2: -0.07566224348741017\n"
     ]
    }
   ],
   "source": [
    "\n",
    "\n",
    "scores = cross_val_score(lr, x, y, cv=5, scoring='r2')\n",
    "print(f\"Cross-validated R^2: {scores.mean()}\")\n"
   ]
  },
  {
   "cell_type": "code",
   "execution_count": 309,
   "id": "bfcb0172-d953-405a-ab49-6ddee4b820fe",
   "metadata": {},
   "outputs": [
    {
     "name": "stdout",
     "output_type": "stream",
     "text": [
      "MSE: 437885842956.97186, MAE: 236833.82579938063\n"
     ]
    }
   ],
   "source": [
    "\n",
    "\n",
    "y_pred = model.predict(x_test)\n",
    "mse = mean_squared_error(y_test, y_pred)\n",
    "mae = mean_absolute_error(y_test, y_pred)\n",
    "print(f\"MSE: {mse}, MAE: {mae}\")\n"
   ]
  },
  {
   "cell_type": "code",
   "execution_count": 312,
   "id": "16114077-ad19-4e65-a8f7-da42e5d73a83",
   "metadata": {},
   "outputs": [
    {
     "data": {
      "text/plain": [
       "-0.028865666620851327"
      ]
     },
     "execution_count": 312,
     "metadata": {},
     "output_type": "execute_result"
    }
   ],
   "source": [
    "lr=LinearRegression()\n",
    "model=lr.fit(x_train,y_train)\n",
    "model.score(x_test,y_test)"
   ]
  },
  {
   "cell_type": "code",
   "execution_count": null,
   "id": "8b39ce43-23b2-4734-9d52-753b73f998ac",
   "metadata": {},
   "outputs": [],
   "source": []
  }
 ],
 "metadata": {
  "kernelspec": {
   "display_name": "Python 3 (ipykernel)",
   "language": "python",
   "name": "python3"
  },
  "language_info": {
   "codemirror_mode": {
    "name": "ipython",
    "version": 3
   },
   "file_extension": ".py",
   "mimetype": "text/x-python",
   "name": "python",
   "nbconvert_exporter": "python",
   "pygments_lexer": "ipython3",
   "version": "3.12.7"
  }
 },
 "nbformat": 4,
 "nbformat_minor": 5
}
